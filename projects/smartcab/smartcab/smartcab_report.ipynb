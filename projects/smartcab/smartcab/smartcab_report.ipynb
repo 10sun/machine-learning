{
 "cells": [
  {
   "cell_type": "markdown",
   "metadata": {},
   "source": [
    "# Machine Learning Engineer Nanodegree\n",
    "## Reinforcement Learning\n",
    "## Project 4: Smartcab"
   ]
  },
  {
   "cell_type": "markdown",
   "metadata": {},
   "source": [
    "## Project Report\n",
    "\n",
    "You will be required to submit a project report along with your modified agent code as part of your submission. As you complete the tasks below, include thorough, detailed answers to each question provided in italics."
   ]
  },
  {
   "cell_type": "markdown",
   "metadata": {},
   "source": [
    "### Implement a Basic Driving Agent\n",
    "\n",
    "To begin, your only task is to get the smartcab to move around in the environment. At this point, you will not be concerned with any sort of optimal driving policy. Note that the driving agent is given the following information at each intersection:\n",
    "\n",
    "The next waypoint location relative to its current location and heading.\n",
    "The state of the traffic light at the intersection and the presence of oncoming vehicles from other directions.\n",
    "The current time left from the allotted deadline.\n",
    "\n",
    "To complete this task, simply have your driving agent choose a random action from the set of possible actions (None, 'forward', 'left', 'right') at each intersection, disregarding the input information above. Set the simulation deadline enforcement, enforce_deadline to False and observe how it performs."
   ]
  },
  {
   "cell_type": "code",
   "execution_count": 1,
   "metadata": {
    "collapsed": true
   },
   "outputs": [],
   "source": [
    "# Import libraries necessary for this project\n",
    "import numpy as np\n",
    "import pandas as pd\n",
    "import matplotlib.pyplot as plt\n",
    "\n",
    "# Pretty display for notebooks\n",
    "%matplotlib inline"
   ]
  },
  {
   "cell_type": "markdown",
   "metadata": {},
   "source": [
    "### QUESTION: \n",
    "Observe what you see with the agent's behavior as it takes random actions. Does the smartcab eventually make it to the destination? Are there any other interesting observations to note?"
   ]
  },
  {
   "cell_type": "code",
   "execution_count": 2,
   "metadata": {
    "collapsed": false
   },
   "outputs": [
    {
     "name": "stdout",
     "output_type": "stream",
     "text": [
      "   reached  goal_distance  distance_traveled  steps  color\n",
      "0    False            6.0              102.0  130.0    red\n",
      "1     True            6.0               21.0   31.0  green\n",
      "2     True            4.0               26.0   42.0  green\n",
      "3     True            5.0               58.0   72.0  green\n",
      "4     True            8.0               12.0   16.0  green\n",
      "5     True            4.0               51.0   73.0  green\n",
      "6    False            6.0              100.0  130.0    red\n",
      "7     True            5.0               37.0   47.0  green\n",
      "8     True            6.0               74.0  101.0  green\n",
      "9     True            5.0               53.0   64.0  green\n",
      "10   False            7.0              110.0  135.0    red\n",
      "11    True            4.0               38.0   57.0  green\n",
      "12    True            8.0               44.0   57.0  green\n",
      "13   False            6.0              103.0  130.0    red\n",
      "14   False            5.0               89.0  125.0    red\n",
      "15    True            7.0                7.0    6.0  green\n",
      "16    True            4.0               86.0  117.0  green\n",
      "17   False            5.0               97.0  125.0    red\n",
      "18   False            6.0              104.0  130.0    red\n",
      "19    True            5.0               14.0   14.0  green\n"
     ]
    }
   ],
   "source": [
    "df = pd.DataFrame(columns=['reached', 'goal_distance','distance_traveled', 'steps'])\n",
    "\n",
    "df=df.append( { 'reached':False,'goal_distance':6,'distance_traveled':102,'steps':130 }, ignore_index=True)\n",
    "df=df.append( { 'reached':True,'goal_distance':6,'distance_traveled':21,'steps':31 }, ignore_index=True)\n",
    "df=df.append( { 'reached':True,'goal_distance':4,'distance_traveled':26,'steps':42 }, ignore_index=True)\n",
    "df=df.append( { 'reached':True,'goal_distance':5,'distance_traveled':58,'steps':72 }, ignore_index=True)\n",
    "df=df.append( { 'reached':True,'goal_distance':8,'distance_traveled':12,'steps':16 }, ignore_index=True)\n",
    "df=df.append( { 'reached':True,'goal_distance':4,'distance_traveled':51,'steps':73 }, ignore_index=True)\n",
    "df=df.append( { 'reached':False,'goal_distance':6,'distance_traveled':100,'steps':130 }, ignore_index=True)\n",
    "df=df.append( { 'reached':True,'goal_distance':5,'distance_traveled':37,'steps':47 }, ignore_index=True)\n",
    "df=df.append( { 'reached':True,'goal_distance':6,'distance_traveled':74,'steps':101 }, ignore_index=True)\n",
    "df=df.append( { 'reached':True,'goal_distance':5,'distance_traveled':53,'steps':64 }, ignore_index=True)\n",
    "df=df.append( { 'reached':False,'goal_distance':7,'distance_traveled':110,'steps':135 }, ignore_index=True)\n",
    "df=df.append( { 'reached':True,'goal_distance':4,'distance_traveled':38,'steps':57 }, ignore_index=True)\n",
    "df=df.append( { 'reached':True,'goal_distance':8,'distance_traveled':44,'steps':57 }, ignore_index=True)\n",
    "df=df.append( { 'reached':False,'goal_distance':6,'distance_traveled':103,'steps':130 }, ignore_index=True)\n",
    "df=df.append( { 'reached':False,'goal_distance':5,'distance_traveled':89,'steps':125 }, ignore_index=True)\n",
    "df=df.append( { 'reached':True,'goal_distance':7,'distance_traveled':7,'steps':6 }, ignore_index=True)\n",
    "df=df.append( { 'reached':True,'goal_distance':4,'distance_traveled':86,'steps':117 }, ignore_index=True)\n",
    "df=df.append( { 'reached':False,'goal_distance':5,'distance_traveled':97,'steps':125 }, ignore_index=True)\n",
    "df=df.append( { 'reached':False,'goal_distance':6,'distance_traveled':104,'steps':130 }, ignore_index=True)\n",
    "df=df.append( { 'reached':True,'goal_distance':5,'distance_traveled':14,'steps':14 }, ignore_index=True)\n",
    "\n",
    "df['color'] = np.where(df['reached']==True, 'green', 'red')\n",
    "\n",
    "print df"
   ]
  },
  {
   "cell_type": "code",
   "execution_count": 4,
   "metadata": {
    "collapsed": false
   },
   "outputs": [
    {
     "data": {
      "image/png": "[encoded data removed]",
      "text/plain": [
       "<matplotlib.figure.Figure at 0xa040f60>"
      ]
     },
     "metadata": {},
     "output_type": "display_data"
    },
    {
     "data": {
      "image/png": "[encoded data removed]",
      "text/plain": [
       "<matplotlib.figure.Figure at 0xa040f28>"
      ]
     },
     "metadata": {},
     "output_type": "display_data"
    }
   ],
   "source": [
    "# the histogram of the data\n",
    "plt.hist(df['reached'], bins=2, facecolor='cyan')\n",
    "plt.xlabel('Reached Goal')\n",
    "plt.ylabel('Number of Trials')\n",
    "plt.show()\n",
    "\n",
    "# the scatterplot of distance traveled versus goal distance\n",
    "plt.scatter(df['distance_traveled'], df['goal_distance'], c=df['color'], alpha=0.5)\n",
    "plt.xlabel('Distance Traveled')\n",
    "plt.ylabel('Distance to Goal')\n",
    "plt.show()"
   ]
  },
  {
   "cell_type": "markdown",
   "metadata": {},
   "source": [
    "**Answer: ** \n",
    "\n",
    "See above analysis of twenty logged trials. The agent does reaches the goal the majority of the time (13 of 20 or 65%) however there does not seem to be a correlation in the scatter plot between the original distance to the goal and how far the agent has to travel to reach it (aside from the fact that the longer distance traveled points tend to not reach the goal but the deadline instead). Even some of the longest distances to the goal result in the shorter distances traveled by the agents. \n",
    "\n",
    "The key behavior noticed that seems outside of what is expected is that the grid space is toroidal - if the agent moves forward facing up on the top row, it reappears at the bottom row in that column and similarly on the left and right columns. This should partially explain the above observation about the larger distances to goals because the agent could have randomly taken a shortcut across the boundary to a goal that has a calculated Manhattan style distance that does not take into account the space \"wrapping.\""
   ]
  },
  {
   "cell_type": "code",
   "execution_count": null,
   "metadata": {
    "collapsed": true
   },
   "outputs": [],
   "source": []
  }
 ],
 "metadata": {
  "anaconda-cloud": {},
  "kernelspec": {
   "display_name": "Python [Root]",
   "language": "python",
   "name": "Python [Root]"
  },
  "language_info": {
   "codemirror_mode": {
    "name": "ipython",
    "version": 2
   },
   "file_extension": ".py",
   "mimetype": "text/x-python",
   "name": "python",
   "nbconvert_exporter": "python",
   "pygments_lexer": "ipython2",
   "version": "2.7.12"
  }
 },
 "nbformat": 4,
 "nbformat_minor": 0
}
