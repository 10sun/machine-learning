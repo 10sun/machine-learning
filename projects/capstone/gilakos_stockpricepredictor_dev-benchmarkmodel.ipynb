{
 "cells": [
  {
   "cell_type": "code",
   "execution_count": 1,
   "metadata": {
    "collapsed": false
   },
   "outputs": [
    {
     "data": {
      "text/plain": [
       "'\\nDeep Learning Stock Price Predictor \\nAuthor: Gil Akos\\nObjective: Create Benchmark Model with scikit learn regression\\n'"
      ]
     },
     "execution_count": 1,
     "metadata": {},
     "output_type": "execute_result"
    }
   ],
   "source": [
    "'''\n",
    "Deep Learning Stock Price Predictor \n",
    "Author: Gil Akos\n",
    "Objective: Create Benchmark Model with scikit learn regression\n",
    "'''"
   ]
  },
  {
   "cell_type": "code",
   "execution_count": 2,
   "metadata": {
    "collapsed": false
   },
   "outputs": [],
   "source": [
    "%matplotlib inline\n",
    "%config InlineBackend.figure_format = 'retina'\n",
    "\n",
    "#Import required libraries\n",
    "import numpy as np\n",
    "import pandas as pd\n",
    "import yahoo_finance as yf\n",
    "from yahoo_finance import Share\n",
    "from pprint import pprint\n",
    "import matplotlib.pyplot as plt"
   ]
  },
  {
   "cell_type": "code",
   "execution_count": 19,
   "metadata": {
    "collapsed": false
   },
   "outputs": [
    {
     "name": "stdout",
     "output_type": "stream",
     "text": [
      "DatetimeIndex(['2009-01-01', '2009-01-02', '2009-01-03', '2009-01-04',\n",
      "               '2009-01-05', '2009-01-06', '2009-01-07', '2009-01-08',\n",
      "               '2009-01-09', '2009-01-10',\n",
      "               ...\n",
      "               '2009-06-22', '2009-06-23', '2009-06-24', '2009-06-25',\n",
      "               '2009-06-26', '2009-06-27', '2009-06-28', '2009-06-29',\n",
      "               '2009-06-30', '2009-07-01'],\n",
      "              dtype='datetime64[ns]', length=182, freq='D')\n"
     ]
    }
   ],
   "source": [
    "#Set Benchmark Dates\n",
    "date_start, date_end = '2009-01-01', '2009-07-01'#'2015-06-18'\n",
    "\n",
    "#Set Model Baseline\n",
    "base_ticker = 'SPY'\n",
    "\n",
    "print(pd.date_range(date_start,date_end))"
   ]
  },
  {
   "cell_type": "code",
   "execution_count": 20,
   "metadata": {
    "collapsed": false
   },
   "outputs": [
    {
     "name": "stdout",
     "output_type": "stream",
     "text": [
      "     Adj_Close\n",
      "0    79.209531\n",
      "1    78.883526\n",
      "2    79.526948\n",
      "3    78.789157\n",
      "4    78.995057\n",
      "5    77.313582\n",
      "6    76.652998\n",
      "7    76.592946\n",
      "8     78.96074\n",
      "9    78.670772\n",
      "10   78.099212\n",
      "11   78.175986\n",
      "12   79.250865\n",
      "13   81.110574\n",
      "14   80.888772\n",
      "15   80.530481\n",
      "16   80.735218\n",
      "17   80.325744\n",
      "18   80.658444\n",
      "19   80.641379\n",
      "20   79.890673\n",
      "21   80.914363\n",
      "22   80.846115\n",
      "23   78.935224\n",
      "24    77.56177\n",
      "25   76.495423\n",
      "26   77.885943\n",
      "27   75.940922\n",
      "28   76.103009\n",
      "29   77.212011\n",
      "..         ...\n",
      "845  70.098931\n",
      "846  70.861245\n",
      "847   70.81042\n",
      "848  70.395384\n",
      "849  73.774971\n",
      "850  73.673333\n",
      "851  71.632025\n",
      "852  70.581729\n",
      "853  70.929001\n",
      "854  69.946468\n",
      "855  70.158221\n",
      "856  71.615088\n",
      "857  74.020606\n",
      "858  71.598144\n",
      "859  70.878182\n",
      "860  70.395384\n",
      "861  70.090459\n",
      "862   71.19158\n",
      "863  68.243967\n",
      "864   72.04706\n",
      "865  71.488034\n",
      "866  71.462625\n",
      "867  73.783443\n",
      "868  73.647917\n",
      "869  75.460528\n",
      "870  77.112211\n",
      "871  76.798813\n",
      "872  79.170456\n",
      "873  78.645305\n",
      "874  78.738477\n",
      "\n",
      "[875 rows x 1 columns]\n"
     ]
    }
   ],
   "source": [
    "#Create a dataframe for stock data\n",
    "stock_df= pd.DataFrame()#index = pd.date_range(date_start,date_end))\n",
    "#Set the index to the date range\n",
    "\n",
    "#Request STock Data\n",
    "stock_data = Share(base_ticker)\n",
    "stock_historical = stock_data.get_historical(date_start,date_end)\n",
    "\n",
    "#Loop through the stock data\n",
    "for d in stock_historical:\n",
    "    stock_close.append(d['Adj_Close'])\n",
    "\n",
    "stock_df['Adj_Close'] = stock_close\n",
    "\n",
    "    \n",
    "print(stock_df)"
   ]
  },
  {
   "cell_type": "code",
   "execution_count": null,
   "metadata": {
    "collapsed": true
   },
   "outputs": [],
   "source": []
  }
 ],
 "metadata": {
  "anaconda-cloud": {},
  "kernelspec": {
   "display_name": "Python [conda root]",
   "language": "python",
   "name": "conda-root-py"
  },
  "language_info": {
   "codemirror_mode": {
    "name": "ipython",
    "version": 2
   },
   "file_extension": ".py",
   "mimetype": "text/x-python",
   "name": "python",
   "nbconvert_exporter": "python",
   "pygments_lexer": "ipython2",
   "version": "2.7.13"
  }
 },
 "nbformat": 4,
 "nbformat_minor": 1
}
